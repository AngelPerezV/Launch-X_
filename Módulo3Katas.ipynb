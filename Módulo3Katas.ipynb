{
 "cells": [
  {
   "cell_type": "markdown",
   "metadata": {},
   "source": [
    "### Ejercicio - Escribir declaraciones if, else, y elif \n",
    "Las instrucciones If te permiten ejecutar condicionalmente código Python. Se usan comúnmente en Python para \"tomar decisiones\" sobre lo que debería suceder a continuación mientras se ejecuta un programa.\n",
    "\n",
    "Para crear una instrucción if en Python, define una expresión de prueba que pueda tener un valor True o False, seguido de un bloque de código con sangría que se ejecutará si se cumple la condición.\n",
    "\n",
    "if expresion_prueba:\n",
    "    # intrucción(es) a ejecutar\n",
    "Para escribir un programa con una lógica condicional más compleja, puedes agregar instrucciones else y elif al bloque de código. También puedes anidar instrucciones condicionales.\n",
    "\n",
    "if expresion_prueba:\n",
    "    # intrucción(es) a ejecutar\n",
    "    if expresion_prueba:\n",
    "        # intrucción(es) a ejecutar\n",
    "    else: \n",
    "        # intrucción(es) a ejecutar\n",
    "elif expresion_prueba:\n",
    "    # intrucción(es) a ejecutar\n",
    "else:\n",
    "    # intrucción(es) a ejecutar\n",
    "TIP Dedica unos minutos a tratar de encontrar una solución. Luego desplázate hacia abajo hasta la parte inferior para ver si has logrado compilar el programa de acuerdo con las especificaciones.\n",
    "\n",
    "Para este ejercicio, escribirás una lógica condicional que imprima una advertencia si un asteroide se acerca a la Tierra demasiado rápido. La velocidad del asteroide varía dependiendo de lo cerca que esté del sol, y cualquier velocidad superior a 25 kilómetros por segundo (km/s) merece una advertencia.\n",
    "\n",
    "Un asteroide se acerca, y viaja a una velocidad de 49 km/s."
   ]
  },
  {
   "cell_type": "code",
   "execution_count": 1,
   "metadata": {},
   "outputs": [
    {
     "name": "stdout",
     "output_type": "stream",
     "text": [
      "Un asteroide se acerca a la tierra\n"
     ]
    }
   ],
   "source": [
    "Velocidad_asteroide = 49 \n",
    "if Velocidad_asteroide > 25:\n",
    "    print('Un asteroide se acerca a la tierra')"
   ]
  },
  {
   "cell_type": "markdown",
   "metadata": {},
   "source": [
    "Si un asteroide entra en la atmósfera de la Tierra a una velocidad mayor o igual a 20 km/s, a veces produce un rayo de luz que se puede ver desde la Tierra. Escribe la lógica condicional que usa declaraciones if, else, y elif para alertar a las personas de todo el mundo que deben buscar un asteroide en el cielo. ¡Hay uno que se dirige a la tierra ahora a una velocidad de 19 km/s!"
   ]
  },
  {
   "cell_type": "code",
   "execution_count": 7,
   "metadata": {},
   "outputs": [
    {
     "name": "stdout",
     "output_type": "stream",
     "text": [
      "No pasa nada\n"
     ]
    }
   ],
   "source": [
    "Velocidad_asteroide = 19\n",
    "if Velocidad_asteroide > 20:\n",
    "    print('Hay uno rayo de luz, se dirige un asteroide a la tierra ahora a una velocidad de', Velocidad_asteroide ,'!')\n",
    "elif Velocidad_asteroide == 20:\n",
    "    print('Hay uno rayo de luz, se dirige un asteroide a la tierra ahora a una velocidad de', Velocidad_asteroide ,'!')\n",
    "else: \n",
    "    print('No pasa nada')"
   ]
  },
  {
   "cell_type": "markdown",
   "metadata": {},
   "source": [
    "## Ejercicio: Uso de operadores and y or\n",
    "En el ejercicio anterior, trabajó con sentencias if, else, y elif para escribir programas con lógica condicional compleja. Para crear expresiones booleanas aún más interesantes, puede usar los operadores and y or en Python.\n",
    "\n",
    "Las expresiones and son sólo si ambas subexpresiones son verdaderas.\n",
    "\n",
    "expresión1 and expresión2\n",
    "\n",
    "Las expresiones or son True si al menos una subexpresión es verdadera.\n",
    "\n",
    "expresión1 or expresión2\n",
    "\n",
    "En este ejercicio, aprenderás información más matizada sobre cuándo los asteroides representan un peligro para la Tierra, y utilizarás esa información para mejorar nuestro sistema de advertencia. Aquí está la nueva información que necesitas saber:\n",
    "\n",
    "*Los asteroides de menos de 25 metros en su dimensión más grande probablemente se quemarán a medida que entren en la atmósfera de la Tierra.\n",
    "\n",
    "* Si una pieza de un asteroide que es más grande que 25 metros pero más pequeña que 1000 metros golpeara la Tierra, causaría mucho daño.\n",
    "También discutimos en el ejercicio anterior que:\n",
    "\n",
    "* La velocidad del asteroide varía en función de lo cerca que esté del sol, y cualquier velocidad superior a 25 kilómetros por segundo (km/s) merece una advertencia.\n",
    "* Si un asteroide entra en la atmósfera de la Tierra a una velocidad mayor o igual a 20 km/s, a veces produce un rayo de luz que se puede ver desde la Tierra.\n",
    "\n",
    "Usando toda esta información, escribe un programa que emita la advertencia o información correcta a la gente de la Tierra, según la velocidad y el tamaño de un asteroide. Utiliza instrucciones if, else, y elif, así como los operadores and y or."
   ]
  },
  {
   "cell_type": "code",
   "execution_count": 13,
   "metadata": {},
   "outputs": [
    {
     "name": "stdout",
     "output_type": "stream",
     "text": [
      "Hay un rayo de luz en el cielo \n"
     ]
    }
   ],
   "source": [
    "tam_asteroide = 40\n",
    "Velocidad_asteroide = 25\n",
    "\n",
    "if Velocidad_asteroide > 25 and tam_asteroide > 25:\n",
    "    print(\"Se acerca un asteroide con un tama de \", tam_asteroide, \"y con una velocidad de \", Velocidad_asteroide)\n",
    "\n",
    "elif Velocidad_asteroide >=20:\n",
    "    print(\"Hay un rayo de luz en el cielo \")\n",
    "\n",
    "elif Velocidad_asteroide < 25:\n",
    "    print(\"aqui nada que ver\")\n",
    "\n",
    "else: print(\"aqui no pasa nada \")\n"
   ]
  },
  {
   "cell_type": "markdown",
   "metadata": {},
   "source": [
    "Curso Propedútico de Python para Launch X - Innovacción Virtual.\n",
    "\n",
    "Material desarrollado con base en los contenidos de MSLearn y la metáfora de LaunchX, traducción e implementación por: Fernanda Ochoa - Learning Producer de LaunchX."
   ]
  }
 ],
 "metadata": {
  "interpreter": {
   "hash": "dda0ab21570dce833aaeb910644a02803c24e5869765398937f61f236ed1a04d"
  },
  "kernelspec": {
   "display_name": "Python 3.10.2 64-bit",
   "language": "python",
   "name": "python3"
  },
  "language_info": {
   "codemirror_mode": {
    "name": "ipython",
    "version": 3
   },
   "file_extension": ".py",
   "mimetype": "text/x-python",
   "name": "python",
   "nbconvert_exporter": "python",
   "pygments_lexer": "ipython3",
   "version": "3.10.2"
  },
  "orig_nbformat": 4
 },
 "nbformat": 4,
 "nbformat_minor": 2
}
