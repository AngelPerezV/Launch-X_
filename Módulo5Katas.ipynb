{
 "cells": [
  {
   "cell_type": "markdown",
   "metadata": {},
   "source": [
    "# Ejercicio1 - Utilizar operadores aritméticos\n",
    "## Operadores aritméticos en Python\n",
    "Python proporciona operadores aritméticos comunes para que puedas realizar operaciones matemáticas en tu código. Estos incluyen las cuatro operaciones principales de suma, resta, multiplicación y división.\n",
    "\n",
    "Exploremos cómo podemos crear un programa que pueda calcular la distancia entre dos planetas. Comenzaremos usando dos distancias de planetas: Tierra (149.597.870 km) y Júpiter (778.547.200 km).\n",
    "\n",
    "* TIP Dedica unos minutos a tratar de encontrar una solución. Luego desplázate hacia abajo hasta la parte inferior para ver si has logrado compilar el programa de acuerdo con las especificaciones.\n",
    "\n",
    "Nota: Quita las comas cuando uses los valores.\n"
   ]
  },
  {
   "cell_type": "code",
   "execution_count": 14,
   "metadata": {},
   "outputs": [],
   "source": [
    "#Distacia entre dos planetas \n",
    "earth =149597870\n",
    "jupiter =778547200"
   ]
  },
  {
   "cell_type": "markdown",
   "metadata": {},
   "source": [
    "### Realizar la operación\n",
    "Con los valores obtenidos, es el momento de añadir el código para realizar la operación. Restarás el primer planeta del segundo para determinar la distancia en kilómetros. A continuación, puedes convertir la distancia del kilómetro en millas multiplicándola por 0.621."
   ]
  },
  {
   "cell_type": "code",
   "execution_count": 17,
   "metadata": {},
   "outputs": [
    {
     "name": "stdout",
     "output_type": "stream",
     "text": [
      "628949330\n",
      "390577533.93\n"
     ]
    }
   ],
   "source": [
    "print(jupiter-earth)\n",
    "print((jupiter-earth)*.621)\n"
   ]
  },
  {
   "cell_type": "markdown",
   "metadata": {},
   "source": [
    "# Ejercicio 2: convierte cadenas en números y usa valores absolutos\n",
    "## Crear una aplicación para trabajar con números y entrada de usuario\n",
    "Con frecuencia, deberás convertir los valores de cadena en números para realizar correctamente diferentes operaciones o determinar el valor absoluto de un número.\n",
    "\n",
    "Para crear nuestra aplicación, queremos leer la distancia del sol para dos planetas, y luego mostrar la distancia entre los planetas. Haremos esto usando input para leer los valores, int para convertir a entero y luego abs para convertir el resultado en su valor absoluto.\n",
    "\n",
    "## Lee los valores\n",
    "Usando input, agrega el código para leer la distancia del sol para cada planeta, considerando 2 planetas."
   ]
  },
  {
   "cell_type": "code",
   "execution_count": 27,
   "metadata": {},
   "outputs": [],
   "source": [
    "nombre = input('Cual es tu nombre ?')\n",
    "name_of_planet = input('Cual es le nombre de tu primer planeta')#Urano\n",
    "name_of_planet2 = input('Cual es le nombre de tu segundo planeta')#Saturno\n",
    "planeta1 = int(input('cual es la distacia de tu primer planeta '))#2872500000\n",
    "planeta2 = int(input('cual es la distacia de tu segundo planeta '))#1433500000\n"
   ]
  },
  {
   "cell_type": "code",
   "execution_count": 30,
   "metadata": {},
   "outputs": [
    {
     "name": "stdout",
     "output_type": "stream",
     "text": [
      "Hola Angel tus planetas fueron Urano , Saturno y la distacnia entre ellos es -1439000000 kms\n",
      "Hola Angel tus planetas fueron Urano , Saturno y la distacnia entre ellos  en valor absoluto es y en millas es  893619000.0\n"
     ]
    }
   ],
   "source": [
    "distance=planeta2-planeta1\n",
    "print(f'Hola {nombre} tus planetas fueron {name_of_planet} , {name_of_planet2} y la distacnia entre ellos es', (distance),'kms')\n",
    "distance= distance*.621\n",
    "print(f'Hola {nombre} tus planetas fueron {name_of_planet} , {name_of_planet2} y la distacnia entre ellos  en valor absoluto es y en millas es ', abs(distance))"
   ]
  },
  {
   "cell_type": "markdown",
   "metadata": {},
   "source": [
    "# Prueba tu aplicación\n",
    "Para probar el proyecto, ejecuta tu notebook. En la parte superior de vscode surgirá un cuadro de diálogo para que proporciones las distancias. Puede utilizar los datos de la tabla siguiente:\n",
    "\n",
    "Planeta\tDistancia al sol\n",
    "Mercurio\t57900000\n",
    "Venus\t108200000\n",
    "Tierra\t149600000\n",
    "Marte\t227900000\n",
    "Júpiter\t778600000\n",
    "Saturno\t1433500000\n",
    "Urano\t2872500000\n",
    "Neptuno\t4495100000"
   ]
  },
  {
   "cell_type": "markdown",
   "metadata": {},
   "source": [
    "Curso Propedútico de Python para Launch X - Innovacción Virtual.\n",
    "\n",
    "Material desarrollado con base en los contenidos de MSLearn y la metáfora de LaunchX, traducción e implementación por: Fernanda Ochoa - Learning Producer de LaunchX."
   ]
  }
 ],
 "metadata": {
  "interpreter": {
   "hash": "dda0ab21570dce833aaeb910644a02803c24e5869765398937f61f236ed1a04d"
  },
  "kernelspec": {
   "display_name": "Python 3.10.2 64-bit",
   "language": "python",
   "name": "python3"
  },
  "language_info": {
   "codemirror_mode": {
    "name": "ipython",
    "version": 3
   },
   "file_extension": ".py",
   "mimetype": "text/x-python",
   "name": "python",
   "nbconvert_exporter": "python",
   "pygments_lexer": "ipython3",
   "version": "3.10.2"
  },
  "orig_nbformat": 4
 },
 "nbformat": 4,
 "nbformat_minor": 2
}
