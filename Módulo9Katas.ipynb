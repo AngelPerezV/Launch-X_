{
 "cells": [
  {
   "cell_type": "markdown",
   "metadata": {},
   "source": [
    "# Ejercicio: Uso de funciones en Python\n",
    "## Ejercicio 1: Trabajar con argumentos en funciones\n",
    "Los argumentos requeridos en las funciones se utilizan cuando las funciones necesitan que esos argumentos funcionen correctamente. En este ejercicio, construirás un informe de combustible que requiere información de varias ubicaciones de combustible en todo el cohete.\n",
    "\n",
    "* TIP Dedica unos minutos para tratar de encontrar una solución. Luego desplázate hacia abajo hasta la parte inferior para ver si has logrado compilar el programa de acuerdo con las especificaciones\n",
    "\n",
    "Comienza por crear una función que necesite tres lecturas de combustible y devuelva un informe:"
   ]
  },
  {
   "cell_type": "code",
   "execution_count": 45,
   "metadata": {},
   "outputs": [],
   "source": [
    "def lectura_combustible(tanque1,tanque2,tanque3):\n",
    "    combustible_total = tanque1+tanque2+tanque3\n",
    "    combustible_total= combustible_total/3\n",
    "    print(f'El promedio del combustible es de {combustible_total}%,\\npara el tanque 1 es de {tanque1}% ,\\npara el tanque 2 es de {tanque2}%, \\npara el tanque 3 es de {tanque3}%')"
   ]
  },
  {
   "cell_type": "code",
   "execution_count": 46,
   "metadata": {},
   "outputs": [
    {
     "name": "stdout",
     "output_type": "stream",
     "text": [
      "El promedio del combustible es de 42.666666666666664%,\n",
      "para el tanque 1 es de 15% ,\n",
      "para el tanque 2 es de 48%, \n",
      "para el tanque 3 es de 65%\n"
     ]
    }
   ],
   "source": [
    "lectura_combustible(15,48,65)"
   ]
  },
  {
   "cell_type": "markdown",
   "metadata": {},
   "source": [
    "Ahora que hemos definido la función de informes, vamos a comprobarlo. Para esta misión, los tanques no están llenos:"
   ]
  },
  {
   "cell_type": "code",
   "execution_count": 47,
   "metadata": {},
   "outputs": [
    {
     "name": "stdout",
     "output_type": "stream",
     "text": [
      "El promedio del combustible es de 0.0%,\n",
      "para el tanque 1 es de 0% ,\n",
      "para el tanque 2 es de 0%, \n",
      "para el tanque 3 es de 0%\n",
      "None\n"
     ]
    }
   ],
   "source": [
    "print(lectura_combustible(0,0,0))"
   ]
  },
  {
   "cell_type": "markdown",
   "metadata": {},
   "source": [
    "En lugar de simplemente crear el informe, la función también está calculando el promedio. Mejora la legibilidad extrayendo el cálculo promedio de la función en una nueva función para que el promedio se pueda hacer de forma independiente:"
   ]
  },
  {
   "cell_type": "code",
   "execution_count": 50,
   "metadata": {},
   "outputs": [],
   "source": [
    "def promedio(x):\n",
    "    total = sum(x)\n",
    "    valores_a_divir = len(x)\n",
    "    return total/valores_a_divir"
   ]
  },
  {
   "cell_type": "code",
   "execution_count": 52,
   "metadata": {},
   "outputs": [
    {
     "data": {
      "text/plain": [
       "42.666666666666664"
      ]
     },
     "execution_count": 52,
     "metadata": {},
     "output_type": "execute_result"
    }
   ],
   "source": [
    "promedio([15,48,65])"
   ]
  },
  {
   "cell_type": "markdown",
   "metadata": {},
   "source": [
    "Ahora actualiza la función de informes para llamando a la nueva función del promedio:"
   ]
  },
  {
   "cell_type": "code",
   "execution_count": 62,
   "metadata": {},
   "outputs": [],
   "source": [
    "def new_report(tanque1,tanque2,tanque3):\n",
    "     print(f'El promedio del combustible es de {promedio([tanque1,tanque2,tanque3])}%,\\npara el tanque 1 es de {tanque1}% ,\\npara el tanque 2 es de {tanque2}%, \\npara el tanque 3 es de {tanque3}%')"
   ]
  },
  {
   "cell_type": "code",
   "execution_count": 63,
   "metadata": {},
   "outputs": [
    {
     "name": "stdout",
     "output_type": "stream",
     "text": [
      "El promedio del combustible es de 42.666666666666664%,\n",
      "para el tanque 1 es de 15% ,\n",
      "para el tanque 2 es de 48%, \n",
      "para el tanque 3 es de 65%\n"
     ]
    }
   ],
   "source": [
    "new_report(15,48,65)"
   ]
  },
  {
   "cell_type": "markdown",
   "metadata": {},
   "source": [
    "# Ejercicio 2: Trabajo con argumentos de palabra clave\n",
    "## Ejercicio : Trabajar con argumentos de palabras clave en funciones\n",
    "En este ejercicio, construirás un informe de cohete que requiere varias piezas de información, como el tiempo hasta el destino, el combustible a la izquierda y el nombre del destino. Comienza por crear una función que creará un informe preciso de la misión:"
   ]
  },
  {
   "cell_type": "code",
   "execution_count": 74,
   "metadata": {},
   "outputs": [],
   "source": [
    "def informe_mision(tiempo_prelazamiento,tanque_externo,tanque_interno,nombre_destino,tiempo_vuelo):\n",
    "    return f\"\"\" Reporte de la mision \n",
    "    Destino..: {nombre_destino}\n",
    "    tiempo total de llegada..: {(tiempo_prelazamiento+tiempo_vuelo)*60} minutes\n",
    "    total del combustible..: {tanque_interno+tanque_externo} gallons\n",
    "    \"\"\""
   ]
  },
  {
   "cell_type": "code",
   "execution_count": 76,
   "metadata": {},
   "outputs": [
    {
     "name": "stdout",
     "output_type": "stream",
     "text": [
      " Reporte de la mision \n",
      "    Destino..: Moon\n",
      "    tiempo total de llegada..: 1320 minutes\n",
      "    total del combustible..: 760000 gallons\n",
      "    \n"
     ]
    }
   ],
   "source": [
    "print(informe_mision(14,560000,200000,'Moon',8))"
   ]
  },
  {
   "cell_type": "markdown",
   "metadata": {},
   "source": [
    "La función es problemática porque no se puede adaptar para minutos adicionales o tanques adicionales de combustible. Hazlo más flexible permitiendo cualquier número de pasos basados en el tiempo y cualquier número de tanques. En lugar de usar *args y **kwargs, aprovecha el hecho de que puedes usar cualquier nombre que desees. Asegurate que la función sea más legible mediante el uso de nombres de variables que están asociados con las entradas, como *minutes y **fuel_reservoirs:"
   ]
  },
  {
   "cell_type": "code",
   "execution_count": 84,
   "metadata": {},
   "outputs": [],
   "source": [
    "def informe_mision(nombre_destino,*minutes,**fuel_reservoirs):\n",
    "    return f\"\"\" Reporte de la mision \n",
    "    Destino..: {nombre_destino}\n",
    "    tiempo total de llegada..: {sum(minutes)*60} minutes\n",
    "    total del combustible..: {sum(fuel_reservoirs.values())} gallons\n",
    "    \"\"\""
   ]
  },
  {
   "cell_type": "code",
   "execution_count": 85,
   "metadata": {},
   "outputs": [
    {
     "name": "stdout",
     "output_type": "stream",
     "text": [
      " Reporte de la mision \n",
      "    Destino..: Jupiter\n",
      "    tiempo total de llegada..: 1320 minutes\n",
      "    total del combustible..: 760000 gallons\n",
      "    \n"
     ]
    }
   ],
   "source": [
    "print(informe_mision('Jupiter',14,8,interno=560000, externo=200000))"
   ]
  },
  {
   "cell_type": "markdown",
   "metadata": {},
   "source": [
    "Debido a que el combustible que queda en los tanques es específico de cada tanque, actualiza la función para usar el nombre de cada tanque en el informe:"
   ]
  },
  {
   "cell_type": "code",
   "execution_count": 123,
   "metadata": {},
   "outputs": [],
   "source": [
    "def informe_mision(nombre_destino,*minutes,**fuel_reservoirs):\n",
    "    informe_mision = f\"\"\"\n",
    "    Reporte de la mision\n",
    "    Destino..: {nombre_destino}\n",
    "    tiempo total de llegada..: {sum(minutes)*60} minutes\n",
    "    total del combustible..: {sum(fuel_reservoirs.values())}\n",
    "    \"\"\"\n",
    "    for x, gallons in fuel_reservoirs.items():\n",
    "        informe_mision += f\"\\\n",
    "    tanque {x}  {gallons} gallons left\\n\"\n",
    "    return informe_mision"
   ]
  },
  {
   "cell_type": "code",
   "execution_count": 125,
   "metadata": {},
   "outputs": [
    {
     "name": "stdout",
     "output_type": "stream",
     "text": [
      "\n",
      "    Reporte de la mision\n",
      "    Destino..: Jupiter\n",
      "    tiempo total de llegada..: 1320 minutes\n",
      "    total del combustible..: 760000\n",
      "        tanque interno  560000 gallons left\n",
      "    tanque externo  200000 gallons left\n",
      "\n"
     ]
    }
   ],
   "source": [
    "print(informe_mision('Jupiter',14,8, interno=560000, externo=200000))"
   ]
  },
  {
   "cell_type": "markdown",
   "metadata": {},
   "source": [
    "\n",
    "Curso Propedútico de Python para Launch X - Innovacción Virtual.\n",
    "\n",
    "Material desarrollado con base en los contenidos de MSLearn y la metáfora de LaunchX, traducción e implementación por: Fernanda Ochoa - Learning Producer de LaunchX."
   ]
  }
 ],
 "metadata": {
  "interpreter": {
   "hash": "dda0ab21570dce833aaeb910644a02803c24e5869765398937f61f236ed1a04d"
  },
  "kernelspec": {
   "display_name": "Python 3.10.2 64-bit",
   "language": "python",
   "name": "python3"
  },
  "language_info": {
   "codemirror_mode": {
    "name": "ipython",
    "version": 3
   },
   "file_extension": ".py",
   "mimetype": "text/x-python",
   "name": "python",
   "nbconvert_exporter": "python",
   "pygments_lexer": "ipython3",
   "version": "3.10.2"
  },
  "orig_nbformat": 4
 },
 "nbformat": 4,
 "nbformat_minor": 2
}
